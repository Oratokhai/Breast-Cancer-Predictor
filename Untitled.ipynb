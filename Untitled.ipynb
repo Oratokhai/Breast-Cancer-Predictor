{
 "cells": [
  {
   "cell_type": "code",
   "execution_count": 1,
   "id": "0408c183-6238-40d0-abbe-e91bca891c77",
   "metadata": {},
   "outputs": [
    {
     "name": "stdout",
     "output_type": "stream",
     "text": [
      "🎉 Model retrained and saved as best_model.pkl successfully!\n"
     ]
    }
   ],
   "source": [
    "# ✅ STEP 1: Import libraries\n",
    "from sklearn.datasets import load_breast_cancer\n",
    "from sklearn.ensemble import RandomForestClassifier\n",
    "from sklearn.model_selection import train_test_split\n",
    "import pandas as pd\n",
    "import joblib\n",
    "\n",
    "# ✅ STEP 2: Load the dataset\n",
    "data = load_breast_cancer()\n",
    "X = pd.DataFrame(data.data, columns=data.feature_names)\n",
    "y = data.target\n",
    "\n",
    "# ✅ STEP 3: Select only the 5 features you're using in Streamlit\n",
    "selected_features = [\"mean radius\", \"mean texture\", \"mean smoothness\", \"worst radius\", \"worst smoothness\"]\n",
    "X = X[selected_features]\n",
    "\n",
    "# ✅ STEP 4: Train-test split\n",
    "X_train, X_test, y_train, y_test = train_test_split(X, y, test_size=0.2, random_state=42)\n",
    "\n",
    "# ✅ STEP 5: Train the model\n",
    "model = RandomForestClassifier(random_state=42)\n",
    "model.fit(X_train, y_train)\n",
    "\n",
    "# ✅ STEP 6: Save the trained model\n",
    "joblib.dump(model, \"best_model.pkl\")\n",
    "\n",
    "print(\"🎉 Model retrained and saved as best_model.pkl successfully!\")\n"
   ]
  },
  {
   "cell_type": "code",
   "execution_count": null,
   "id": "85b3817f-dea5-40e9-9894-4d750d3a879c",
   "metadata": {},
   "outputs": [],
   "source": []
  }
 ],
 "metadata": {
  "kernelspec": {
   "display_name": "Python 3 (ipykernel)",
   "language": "python",
   "name": "python3"
  },
  "language_info": {
   "codemirror_mode": {
    "name": "ipython",
    "version": 3
   },
   "file_extension": ".py",
   "mimetype": "text/x-python",
   "name": "python",
   "nbconvert_exporter": "python",
   "pygments_lexer": "ipython3",
   "version": "3.12.7"
  }
 },
 "nbformat": 4,
 "nbformat_minor": 5
}
